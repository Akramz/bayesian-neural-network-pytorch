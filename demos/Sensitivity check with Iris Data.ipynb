{
 "cells": [
  {
   "cell_type": "markdown",
   "metadata": {},
   "source": [
    "# Demo - Sensitivity check with Iris Data"
   ]
  },
  {
   "cell_type": "code",
   "execution_count": 1,
   "metadata": {},
   "outputs": [],
   "source": [
    "import numpy as np\n",
    "from sklearn import datasets\n",
    "\n",
    "import torch\n",
    "import torch.nn as nn\n",
    "import torch.optim as optim\n",
    "\n",
    "import torchbnn as bnn"
   ]
  },
  {
   "cell_type": "code",
   "execution_count": 2,
   "metadata": {},
   "outputs": [],
   "source": [
    "import matplotlib.pyplot as plt\n",
    "%matplotlib inline"
   ]
  },
  {
   "cell_type": "markdown",
   "metadata": {},
   "source": [
    "## 1. Load Iris Data"
   ]
  },
  {
   "cell_type": "code",
   "execution_count": 3,
   "metadata": {},
   "outputs": [],
   "source": [
    "iris = datasets.load_iris()"
   ]
  },
  {
   "cell_type": "code",
   "execution_count": 4,
   "metadata": {},
   "outputs": [],
   "source": [
    "X = iris.data\n",
    "Y = iris.target "
   ]
  },
  {
   "cell_type": "code",
   "execution_count": 5,
   "metadata": {},
   "outputs": [
    {
     "data": {
      "text/plain": [
       "(torch.Size([150, 4]), torch.Size([150]))"
      ]
     },
     "execution_count": 5,
     "metadata": {},
     "output_type": "execute_result"
    }
   ],
   "source": [
    "x, y = torch.from_numpy(X).float(), torch.from_numpy(Y).long()\n",
    "x.shape, y.shape"
   ]
  },
  {
   "cell_type": "markdown",
   "metadata": {},
   "source": [
    "## 2. Define Model"
   ]
  },
  {
   "cell_type": "code",
   "execution_count": 6,
   "metadata": {},
   "outputs": [],
   "source": [
    "ce_loss = nn.CrossEntropyLoss()\n",
    "kl_loss = bnn.BKLLoss(reduction='mean', last_layer_only=False)"
   ]
  },
  {
   "cell_type": "markdown",
   "metadata": {},
   "source": [
    "## 3. Train Model"
   ]
  },
  {
   "cell_type": "markdown",
   "metadata": {},
   "source": [
    "### 3.1. Sensitivity to KL loss"
   ]
  },
  {
   "cell_type": "code",
   "execution_count": 7,
   "metadata": {},
   "outputs": [],
   "source": [
    "model = nn.Sequential(\n",
    "    bnn.BayesLinear(prior_mu=0, prior_sigma=0.05, in_features=4, out_features=100),\n",
    "    nn.ReLU(),\n",
    "    bnn.BayesLinear(prior_mu=0, prior_sigma=0.05, in_features=100, out_features=3),\n",
    ")\n",
    "\n",
    "\n",
    "optimizer = optim.Adam(model.parameters(), lr=0.01)"
   ]
  },
  {
   "cell_type": "code",
   "execution_count": 8,
   "metadata": {},
   "outputs": [],
   "source": [
    "kl_weight = 0.1"
   ]
  },
  {
   "cell_type": "code",
   "execution_count": 9,
   "metadata": {},
   "outputs": [
    {
     "name": "stdout",
     "output_type": "stream",
     "text": [
      "- Accuracy: 98.666667 %\n",
      "- CE : 0.21, KL : 2.36\n"
     ]
    }
   ],
   "source": [
    "for step in range(3000):\n",
    "    pre = model(x)\n",
    "    ce = ce_loss(pre, y)\n",
    "    kl = kl_loss(model)\n",
    "    cost = ce + kl_weight*kl\n",
    "    \n",
    "    optimizer.zero_grad()\n",
    "    cost.backward()\n",
    "    optimizer.step()\n",
    "    \n",
    "_, predicted = torch.max(pre.data, 1)\n",
    "total = y.size(0)\n",
    "correct = (predicted == y).sum()\n",
    "print('- Accuracy: %f %%' % (100 * float(correct) / total))\n",
    "print('- CE : %2.2f, KL : %2.2f' % (ce.item(), kl.item()))"
   ]
  },
  {
   "cell_type": "code",
   "execution_count": 10,
   "metadata": {},
   "outputs": [],
   "source": [
    "model = nn.Sequential(\n",
    "    bnn.BayesLinear(prior_mu=0, prior_sigma=0.05, in_features=4, out_features=100),\n",
    "    nn.ReLU(),\n",
    "    bnn.BayesLinear(prior_mu=0, prior_sigma=0.05, in_features=100, out_features=3),\n",
    ")\n",
    "\n",
    "\n",
    "optimizer = optim.Adam(model.parameters(), lr=0.01)"
   ]
  },
  {
   "cell_type": "code",
   "execution_count": 11,
   "metadata": {},
   "outputs": [],
   "source": [
    "kl_weight = 0.01"
   ]
  },
  {
   "cell_type": "code",
   "execution_count": 12,
   "metadata": {},
   "outputs": [
    {
     "name": "stdout",
     "output_type": "stream",
     "text": [
      "- Accuracy: 98.666667 %\n",
      "- CE : 0.07, KL : 6.41\n"
     ]
    }
   ],
   "source": [
    "for step in range(3000):\n",
    "    pre = model(x)\n",
    "    ce = ce_loss(pre, y)\n",
    "    kl = kl_loss(model)\n",
    "    cost = ce + kl_weight*kl\n",
    "    \n",
    "    optimizer.zero_grad()\n",
    "    cost.backward()\n",
    "    optimizer.step()\n",
    "    \n",
    "_, predicted = torch.max(pre.data, 1)\n",
    "total = y.size(0)\n",
    "correct = (predicted == y).sum()\n",
    "print('- Accuracy: %f %%' % (100 * float(correct) / total))\n",
    "print('- CE : %2.2f, KL : %2.2f' % (ce.item(), kl.item()))"
   ]
  },
  {
   "cell_type": "markdown",
   "metadata": {},
   "source": [
    "### 3.2. Custom KL loss"
   ]
  },
  {
   "cell_type": "code",
   "execution_count": 13,
   "metadata": {},
   "outputs": [],
   "source": [
    "model = nn.Sequential(\n",
    "    bnn.BayesLinear(prior_mu=0, prior_sigma=0.05, in_features=4, out_features=100),\n",
    "    nn.ReLU(),\n",
    "    bnn.BayesLinear(prior_mu=0, prior_sigma=0.05, in_features=100, out_features=3),\n",
    ")\n",
    "\n",
    "\n",
    "optimizer = optim.Adam(model.parameters(), lr=0.01)"
   ]
  },
  {
   "cell_type": "code",
   "execution_count": 14,
   "metadata": {},
   "outputs": [],
   "source": [
    "def custom_kl_loss(mu_0, log_sigma_0, mu_1, log_sigma_1) :\n",
    "    kl = log_sigma_1 - log_sigma_0 + \\\n",
    "    (log_sigma_0**2 + (mu_0-mu_1)**2)/(2*log_sigma_1**2) - 0.5\n",
    "    return kl.sum()"
   ]
  },
  {
   "cell_type": "code",
   "execution_count": 15,
   "metadata": {},
   "outputs": [
    {
     "name": "stdout",
     "output_type": "stream",
     "text": [
      "- Accuracy: 96.000000 %\n",
      "- CE : 0.13, KL : -10.83\n"
     ]
    }
   ],
   "source": [
    "for step in range(3000):\n",
    "    pre = model(x)\n",
    "    ce = ce_loss(pre, y)\n",
    "    \n",
    "    # custom kl loss\n",
    "    ckl = 0\n",
    "    n = 0\n",
    "    \n",
    "    for m in model.modules() :\n",
    "        if isinstance(m, (bnn.BayesLinear, bnn.BayesConv2d)):\n",
    "            kl = custom_kl_loss(m.weight_mu, m.weight_log_sigma,\n",
    "                                m.prior_mu, m.prior_log_sigma)\n",
    "            ckl += kl\n",
    "            n += len(m.weight_mu.view(-1))\n",
    "\n",
    "            if m.bias :\n",
    "                kl = custom_kl_loss(m.bias_mu, m.bias_log_sigma,\n",
    "                                    m.prior_mu, m.prior_log_sigma)\n",
    "                ckl += kl\n",
    "                n += len(m.bias_mu.view(-1))\n",
    "\n",
    "        if isinstance(m, bnn.BayesBatchNorm2d):\n",
    "            if m.affine :\n",
    "                kl = custom_kl_loss(m.weight_mu, m.weight_log_sigma,\n",
    "                                    m.prior_mu, m.prior_log_sigma)\n",
    "                ckl += kl\n",
    "                n += len(m.weight_mu.view(-1))\n",
    "\n",
    "                kl = custom_kl_loss(m.bias_mu, m.bias_log_sigma,\n",
    "                                    m.prior_mu, m.prior_log_sigma)\n",
    "                ckl += kl                \n",
    "                n += len(m.bias_mu.view(-1))\n",
    "    \n",
    "    cost = ce + kl_weight*ckl\n",
    "    \n",
    "    optimizer.zero_grad()\n",
    "    cost.backward()\n",
    "    optimizer.step()\n",
    "    \n",
    "_, predicted = torch.max(pre.data, 1)\n",
    "total = y.size(0)\n",
    "correct = (predicted == y).sum()\n",
    "print('- Accuracy: %f %%' % (100 * float(correct) / total))\n",
    "print('- CE : %2.2f, KL : %2.2f' % (ce.item(), kl.item()))"
   ]
  }
 ],
 "metadata": {
  "kernelspec": {
   "display_name": "Python 3",
   "language": "python",
   "name": "python3"
  },
  "language_info": {
   "codemirror_mode": {
    "name": "ipython",
    "version": 3
   },
   "file_extension": ".py",
   "mimetype": "text/x-python",
   "name": "python",
   "nbconvert_exporter": "python",
   "pygments_lexer": "ipython3",
   "version": "3.6.5"
  }
 },
 "nbformat": 4,
 "nbformat_minor": 2
}
